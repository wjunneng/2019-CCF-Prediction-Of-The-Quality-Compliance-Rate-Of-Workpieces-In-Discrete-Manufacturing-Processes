{
 "cells": [
  {
   "cell_type": "code",
   "execution_count": 1,
   "metadata": {
    "collapsed": true,
    "pycharm": {
     "is_executing": false
    }
   },
   "outputs": [
    {
     "name": "stdout",
     "text": [
      "(6000, 11)\n(6000, 21)\n"
     ],
     "output_type": "stream"
    }
   ],
   "source": [
    "import pandas as pd\n",
    "\n",
    "project_path = '/home/wjunneng/Ubuntu/2019-CCF-Prediction-Of-The-Quality-Compliance-Rate-Of-Workpieces-In-Discrete-Manufacturing-Processes'\n",
    "\n",
    "first_round_testing_data_path = project_path + '/data/original/first_round_testing_data.csv'\n",
    "first_round_training_data_path = project_path + '/data/original/first_round_training_data.csv'\n",
    "\n",
    "first_round_testing_data = pd.read_csv(first_round_testing_data_path)\n",
    "first_round_training_data = pd.read_csv(first_round_training_data_path)\n",
    "\n",
    "print(first_round_testing_data.shape)\n",
    "print(first_round_training_data.shape)\n",
    "\n"
   ]
  },
  {
   "cell_type": "code",
   "execution_count": 3,
   "outputs": [
    {
     "data": {
      "text/plain": "Index(['Parameter1', 'Parameter2', 'Parameter3', 'Parameter4', 'Parameter5',\n       'Parameter6', 'Parameter7', 'Parameter8', 'Parameter9', 'Parameter10',\n       'Attribute1', 'Attribute2', 'Attribute3', 'Attribute4', 'Attribute5',\n       'Attribute6', 'Attribute7', 'Attribute8', 'Attribute9', 'Attribute10',\n       'Quality_label'],\n      dtype='object')"
     },
     "metadata": {},
     "output_type": "execute_result",
     "execution_count": 3
    }
   ],
   "source": [
    "first_round_training_data.columns\n",
    "\n"
   ],
   "metadata": {
    "collapsed": false,
    "pycharm": {
     "name": "#%%\n",
     "is_executing": false
    }
   }
  },
  {
   "cell_type": "code",
   "execution_count": 4,
   "outputs": [
    {
     "data": {
      "text/plain": "Index(['Group', 'Parameter1', 'Parameter10', 'Parameter2', 'Parameter3',\n       'Parameter4', 'Parameter5', 'Parameter6', 'Parameter7', 'Parameter8',\n       'Parameter9'],\n      dtype='object')"
     },
     "metadata": {},
     "output_type": "execute_result",
     "execution_count": 4
    }
   ],
   "source": [
    "first_round_testing_data.columns\n",
    "\n"
   ],
   "metadata": {
    "collapsed": false,
    "pycharm": {
     "name": "#%%\n",
     "is_executing": false
    }
   }
  },
  {
   "cell_type": "code",
   "execution_count": 7,
   "outputs": [
    {
     "data": {
      "text/plain": "Pass         2417\nGood         1584\nExcellent    1107\nFail          892\nName: Quality_label, dtype: int64"
     },
     "metadata": {},
     "output_type": "execute_result",
     "execution_count": 7
    }
   ],
   "source": [
    "first_round_training_data['Quality_label'].value_counts()\n",
    "\n"
   ],
   "metadata": {
    "collapsed": false,
    "pycharm": {
     "name": "#%%\n",
     "is_executing": false
    }
   }
  },
  {
   "cell_type": "code",
   "execution_count": null,
   "outputs": [],
   "source": [
    "\n"
   ],
   "metadata": {
    "collapsed": false,
    "pycharm": {
     "name": "#%%\n"
    }
   }
  }
 ],
 "metadata": {
  "language_info": {
   "codemirror_mode": {
    "name": "ipython",
    "version": 2
   },
   "file_extension": ".py",
   "mimetype": "text/x-python",
   "name": "python",
   "nbconvert_exporter": "python",
   "pygments_lexer": "ipython2",
   "version": "2.7.6"
  },
  "kernelspec": {
   "name": "pycharm-e50da876",
   "language": "python",
   "display_name": "PyCharm (ForecastScore)"
  },
  "pycharm": {
   "stem_cell": {
    "cell_type": "raw",
    "source": [],
    "metadata": {
     "collapsed": false
    }
   }
  }
 },
 "nbformat": 4,
 "nbformat_minor": 0
}