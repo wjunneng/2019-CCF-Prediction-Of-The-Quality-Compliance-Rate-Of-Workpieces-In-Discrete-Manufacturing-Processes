{
 "cells": [
  {
   "cell_type": "code",
   "execution_count": 4,
   "metadata": {
    "collapsed": true,
    "pycharm": {
     "is_executing": false
    }
   },
   "outputs": [
    {
     "name": "stdout",
     "text": [
      "Index(['Parameter1', 'Parameter10', 'Parameter2', 'Parameter3', 'Parameter4',\n       'Parameter5', 'Parameter6', 'Parameter7', 'Parameter8', 'Parameter9'],\n      dtype='object')\n"
     ],
     "output_type": "stream"
    }
   ],
   "source": [
    "import pandas as pd\n",
    "\n",
    "project_path = '/home/wjunneng/Ubuntu/2019-CCF-Prediction-Of-The-Quality-Compliance-Rate-Of-Workpieces-In-Discrete-Manufacturing-Processes'\n",
    "\n",
    "first_round_testing_data_path = project_path + '/data/original/first_round_testing_data.csv'\n",
    "first_round_training_data_path = project_path + '/data/original/first_round_training_data.csv'\n",
    "\n",
    "first_round_testing_data = pd.read_csv(first_round_testing_data_path)\n",
    "first_round_training_data = pd.read_csv(first_round_training_data_path)\n",
    "\n",
    "select_columns = ['Parameter1', 'Parameter10', 'Parameter2', 'Parameter3',\n",
    "       'Parameter4', 'Parameter5', 'Parameter6', 'Parameter7', 'Parameter8',\n",
    "       'Parameter9']\n",
    "\n",
    "first_round_testing_data = first_round_testing_data[select_columns]\n",
    "first_round_training_data = first_round_training_data[select_columns]\n",
    "\n",
    "print(first_round_testing_data.columns)\n"
   ]
  },
  {
   "cell_type": "code",
   "execution_count": 5,
   "outputs": [
    {
     "name": "stdout",
     "text": [
      "one_hot 处理的特征列： Parameter5_label Parameter6_label Parameter7_label Parameter8_label Parameter9_label\n   Parameter1  Parameter10  Parameter2    Parameter3    Parameter4  \\\n0    0.235279     0.195680    0.351488      0.186814      0.086456   \n1    0.043799     0.523976   32.590688      0.886285     29.702490   \n2   21.466737     0.523976   11.847792  79499.554454  13544.605343   \n3    0.703795     0.010192    0.018080    317.015599     38.087562   \n4   10.447960     0.010192   15.983891      0.996049     16.715690   \n\n   Parameter5  Parameter6  Parameter7  Parameter8  Parameter9  \\\n0    1.434060    1.230409    0.038483    2.931083    2.005852   \n1    0.027434    0.016852    0.600827    0.118077  887.611257   \n2    0.027434    0.016852    0.600827    0.118077  887.611257   \n3    0.428092    0.314162    0.038483   17.850021    0.051850   \n4    0.477823    0.464037    0.038483   17.850021    0.051850   \n\n   Parameter5_label  Parameter6_label  Parameter7_label  Parameter8_label  \\\n0                 1                 1                 0                10   \n1                 0                 0                 1                 0   \n2                 0                 0                 1                 0   \n3                 0                 0                 0                 6   \n4                 0                 0                 0                 6   \n\n   Parameter9_label  \n0                 6  \n1                13  \n2                13  \n3                 0  \n4                 0  \n"
     ],
     "output_type": "stream"
    }
   ],
   "source": [
    "def add_feature(df, **params):\n",
    "    \"\"\"\n",
    "    添加新的类别特征\n",
    "    :param df: \n",
    "    :param params: \n",
    "    :return: \n",
    "    \"\"\"\n",
    "    import numpy as np\n",
    "    from sklearn import preprocessing \n",
    "    \n",
    "    # 添加新的类别列\n",
    "    for column in ['Parameter5', 'Parameter6', 'Parameter7', 'Parameter8', 'Parameter9']:\n",
    "        df[column+'_label'] = df[column].apply(lambda x: str(round(x)))\n",
    "    \n",
    "    # 获取要进行label_encoder的特征列\n",
    "    object_cols = list(df.dtypes[df.dtypes == np.object].index)\n",
    "\n",
    "    # 进行label_encoder\n",
    "    print('one_hot 处理的特征列： %s' % ' '.join(object_cols))\n",
    "    lbl = preprocessing.LabelEncoder()\n",
    "    for col in object_cols:\n",
    "        df[col] = lbl.fit(df[col].astype('str')).transform(df[col].astype('str'))\n",
    "\n",
    "    return df\n",
    "\n",
    "print(add_feature(first_round_testing_data).head())"
   ],
   "metadata": {
    "collapsed": false,
    "pycharm": {
     "name": "#%%\n",
     "is_executing": false
    }
   }
  },
  {
   "cell_type": "code",
   "execution_count": null,
   "outputs": [],
   "source": [
    "\n"
   ],
   "metadata": {
    "collapsed": false,
    "pycharm": {
     "name": "#%%\n"
    }
   }
  }
 ],
 "metadata": {
  "language_info": {
   "codemirror_mode": {
    "name": "ipython",
    "version": 2
   },
   "file_extension": ".py",
   "mimetype": "text/x-python",
   "name": "python",
   "nbconvert_exporter": "python",
   "pygments_lexer": "ipython2",
   "version": "2.7.6"
  },
  "kernelspec": {
   "name": "pycharm-e50da876",
   "language": "python",
   "display_name": "PyCharm (ForecastScore)"
  },
  "pycharm": {
   "stem_cell": {
    "cell_type": "raw",
    "source": [],
    "metadata": {
     "collapsed": false
    }
   }
  }
 },
 "nbformat": 4,
 "nbformat_minor": 0
}