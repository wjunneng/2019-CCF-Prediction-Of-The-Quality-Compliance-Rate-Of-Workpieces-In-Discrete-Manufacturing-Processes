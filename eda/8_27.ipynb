{
 "cells": [
  {
   "cell_type": "code",
   "execution_count": 1,
   "metadata": {
    "collapsed": true,
    "pycharm": {
     "is_executing": false
    }
   },
   "outputs": [
    {
     "name": "stdout",
     "text": [
      "Index(['Parameter1', 'Parameter10', 'Parameter2', 'Parameter3', 'Parameter4',\n       'Parameter5', 'Parameter6', 'Parameter7', 'Parameter8', 'Parameter9'],\n      dtype='object')\n"
     ],
     "output_type": "stream"
    }
   ],
   "source": [
    "import pandas as pd\n",
    "\n",
    "project_path = '/home/wjunneng/Ubuntu/2019-CCF-Prediction-Of-The-Quality-Compliance-Rate-Of-Workpieces-In-Discrete-Manufacturing-Processes'\n",
    "\n",
    "first_round_testing_data_path = project_path + '/data/original/first_round_testing_data.csv'\n",
    "first_round_training_data_path = project_path + '/data/original/first_round_training_data.csv'\n",
    "\n",
    "first_round_testing_data = pd.read_csv(first_round_testing_data_path)\n",
    "first_round_training_data = pd.read_csv(first_round_training_data_path)\n",
    "\n",
    "select_columns = ['Parameter1', 'Parameter10', 'Parameter2', 'Parameter3',\n",
    "       'Parameter4', 'Parameter5', 'Parameter6', 'Parameter7', 'Parameter8',\n",
    "       'Parameter9']\n",
    "\n",
    "first_round_testing_data = first_round_testing_data[select_columns]\n",
    "first_round_training_data = first_round_training_data[select_columns]\n",
    "\n",
    "print(first_round_testing_data.columns)\n",
    "\n",
    "\n"
   ]
  },
  {
   "cell_type": "code",
   "execution_count": 2,
   "outputs": [
    {
     "name": "stdout",
     "text": [
      "<class 'pandas.core.frame.DataFrame'>\nRangeIndex: 6000 entries, 0 to 5999\nData columns (total 10 columns):\nParameter1     6000 non-null float64\nParameter10    6000 non-null float64\nParameter2     6000 non-null float64\nParameter3     6000 non-null float64\nParameter4     6000 non-null float64\nParameter5     6000 non-null float64\nParameter6     6000 non-null float64\nParameter7     6000 non-null float64\nParameter8     6000 non-null float64\nParameter9     6000 non-null float64\ndtypes: float64(10)\nmemory usage: 468.9 KB\n"
     ],
     "output_type": "stream"
    }
   ],
   "source": [
    "first_round_training_data.info()"
   ],
   "metadata": {
    "collapsed": false,
    "pycharm": {
     "name": "#%%\n",
     "is_executing": false
    }
   }
  },
  {
   "cell_type": "code",
   "execution_count": 3,
   "outputs": [
    {
     "data": {
      "text/plain": "         Parameter1  Parameter10     Parameter2    Parameter3    Parameter4  \\\ncount  6.000000e+03  6000.000000    6000.000000  6.000000e+03  6.000000e+03   \nmean   1.072897e+05    26.514627     369.101132  1.132272e+03  2.196607e+07   \nstd    2.980241e+06    84.807106    6352.033456  3.220140e+04  1.429351e+09   \nmin    1.331475e-09     0.001024       0.000001  5.436324e-08  4.859234e-10   \n25%    2.233015e-02     0.101478       0.090422  6.985572e-02  1.867368e-02   \n50%    8.489791e-01     0.727611       1.000019  8.985648e-01  1.002728e+00   \n75%    3.103161e+01    10.060093      12.159195  1.300345e+01  5.193707e+01   \nmax    1.758842e+08   517.197610  317368.685606  2.183219e+06  1.101618e+11   \n\n        Parameter5   Parameter6    Parameter7    Parameter8    Parameter9  \ncount  6000.000000  6000.000000   6000.000000   6000.000000  6.000000e+03  \nmean      5.019799     5.404172    210.884571     59.810770  8.764239e+04  \nstd       6.782677     6.788654   1616.938611   1545.270888  3.885921e+06  \nmin       0.000003     0.000005      0.000624      0.023699  3.962831e-04  \n25%       0.827784     0.563965      0.152059      0.035407  5.930812e-01  \n50%       2.772987     2.684398      0.600827      2.931083  5.930812e-01  \n75%       6.680183     7.117767      2.374035     17.850021  6.783967e+00  \nmax      83.671947    41.175410  35698.591553  66984.723637  1.738083e+08  ",
      "text/html": "<div>\n<style scoped>\n    .dataframe tbody tr th:only-of-type {\n        vertical-align: middle;\n    }\n\n    .dataframe tbody tr th {\n        vertical-align: top;\n    }\n\n    .dataframe thead th {\n        text-align: right;\n    }\n</style>\n<table border=\"1\" class=\"dataframe\">\n  <thead>\n    <tr style=\"text-align: right;\">\n      <th></th>\n      <th>Parameter1</th>\n      <th>Parameter10</th>\n      <th>Parameter2</th>\n      <th>Parameter3</th>\n      <th>Parameter4</th>\n      <th>Parameter5</th>\n      <th>Parameter6</th>\n      <th>Parameter7</th>\n      <th>Parameter8</th>\n      <th>Parameter9</th>\n    </tr>\n  </thead>\n  <tbody>\n    <tr>\n      <th>count</th>\n      <td>6.000000e+03</td>\n      <td>6000.000000</td>\n      <td>6000.000000</td>\n      <td>6.000000e+03</td>\n      <td>6.000000e+03</td>\n      <td>6000.000000</td>\n      <td>6000.000000</td>\n      <td>6000.000000</td>\n      <td>6000.000000</td>\n      <td>6.000000e+03</td>\n    </tr>\n    <tr>\n      <th>mean</th>\n      <td>1.072897e+05</td>\n      <td>26.514627</td>\n      <td>369.101132</td>\n      <td>1.132272e+03</td>\n      <td>2.196607e+07</td>\n      <td>5.019799</td>\n      <td>5.404172</td>\n      <td>210.884571</td>\n      <td>59.810770</td>\n      <td>8.764239e+04</td>\n    </tr>\n    <tr>\n      <th>std</th>\n      <td>2.980241e+06</td>\n      <td>84.807106</td>\n      <td>6352.033456</td>\n      <td>3.220140e+04</td>\n      <td>1.429351e+09</td>\n      <td>6.782677</td>\n      <td>6.788654</td>\n      <td>1616.938611</td>\n      <td>1545.270888</td>\n      <td>3.885921e+06</td>\n    </tr>\n    <tr>\n      <th>min</th>\n      <td>1.331475e-09</td>\n      <td>0.001024</td>\n      <td>0.000001</td>\n      <td>5.436324e-08</td>\n      <td>4.859234e-10</td>\n      <td>0.000003</td>\n      <td>0.000005</td>\n      <td>0.000624</td>\n      <td>0.023699</td>\n      <td>3.962831e-04</td>\n    </tr>\n    <tr>\n      <th>25%</th>\n      <td>2.233015e-02</td>\n      <td>0.101478</td>\n      <td>0.090422</td>\n      <td>6.985572e-02</td>\n      <td>1.867368e-02</td>\n      <td>0.827784</td>\n      <td>0.563965</td>\n      <td>0.152059</td>\n      <td>0.035407</td>\n      <td>5.930812e-01</td>\n    </tr>\n    <tr>\n      <th>50%</th>\n      <td>8.489791e-01</td>\n      <td>0.727611</td>\n      <td>1.000019</td>\n      <td>8.985648e-01</td>\n      <td>1.002728e+00</td>\n      <td>2.772987</td>\n      <td>2.684398</td>\n      <td>0.600827</td>\n      <td>2.931083</td>\n      <td>5.930812e-01</td>\n    </tr>\n    <tr>\n      <th>75%</th>\n      <td>3.103161e+01</td>\n      <td>10.060093</td>\n      <td>12.159195</td>\n      <td>1.300345e+01</td>\n      <td>5.193707e+01</td>\n      <td>6.680183</td>\n      <td>7.117767</td>\n      <td>2.374035</td>\n      <td>17.850021</td>\n      <td>6.783967e+00</td>\n    </tr>\n    <tr>\n      <th>max</th>\n      <td>1.758842e+08</td>\n      <td>517.197610</td>\n      <td>317368.685606</td>\n      <td>2.183219e+06</td>\n      <td>1.101618e+11</td>\n      <td>83.671947</td>\n      <td>41.175410</td>\n      <td>35698.591553</td>\n      <td>66984.723637</td>\n      <td>1.738083e+08</td>\n    </tr>\n  </tbody>\n</table>\n</div>"
     },
     "metadata": {},
     "output_type": "execute_result",
     "execution_count": 3
    }
   ],
   "source": [
    "first_round_testing_data.describe()"
   ],
   "metadata": {
    "collapsed": false,
    "pycharm": {
     "name": "#%%\n",
     "is_executing": false
    }
   }
  },
  {
   "cell_type": "code",
   "execution_count": null,
   "outputs": [],
   "source": [
    "\n"
   ],
   "metadata": {
    "collapsed": false,
    "pycharm": {
     "name": "#%%\n"
    }
   }
  }
 ],
 "metadata": {
  "language_info": {
   "codemirror_mode": {
    "name": "ipython",
    "version": 2
   },
   "file_extension": ".py",
   "mimetype": "text/x-python",
   "name": "python",
   "nbconvert_exporter": "python",
   "pygments_lexer": "ipython2",
   "version": "2.7.6"
  },
  "kernelspec": {
   "name": "pycharm-e50da876",
   "language": "python",
   "display_name": "PyCharm (ForecastScore)"
  },
  "pycharm": {
   "stem_cell": {
    "cell_type": "raw",
    "source": [],
    "metadata": {
     "collapsed": false
    }
   }
  }
 },
 "nbformat": 4,
 "nbformat_minor": 0
}