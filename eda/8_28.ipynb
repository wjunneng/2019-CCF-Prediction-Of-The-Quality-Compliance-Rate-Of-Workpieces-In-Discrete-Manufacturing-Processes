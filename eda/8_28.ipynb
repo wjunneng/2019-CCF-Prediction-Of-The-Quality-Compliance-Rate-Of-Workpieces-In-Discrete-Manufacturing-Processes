{
 "cells": [
  {
   "cell_type": "code",
   "execution_count": 14,
   "metadata": {
    "collapsed": true,
    "pycharm": {
     "is_executing": false
    }
   },
   "outputs": [
    {
     "name": "stdout",
     "text": [
      "Index(['Group', 'Parameter1', 'Parameter10', 'Parameter2', 'Parameter3',\n       'Parameter4', 'Parameter5', 'Parameter6', 'Parameter7', 'Parameter8',\n       'Parameter9'],\n      dtype='object')\nIndex(['Parameter1', 'Parameter2', 'Parameter3', 'Parameter4', 'Parameter5',\n       'Parameter6', 'Parameter7', 'Parameter8', 'Parameter9', 'Parameter10',\n       'Attribute1', 'Attribute2', 'Attribute3', 'Attribute4', 'Attribute5',\n       'Attribute6', 'Attribute7', 'Attribute8', 'Attribute9', 'Attribute10',\n       'Quality_label'],\n      dtype='object')\n"
     ],
     "output_type": "stream"
    }
   ],
   "source": [
    "import pandas as pd\n",
    "\n",
    "project_path = '/home/wjunneng/Ubuntu/2019-CCF-Prediction-Of-The-Quality-Compliance-Rate-Of-Workpieces-In-Discrete-Manufacturing-Processes'\n",
    "\n",
    "first_round_testing_data_path = project_path + '/data/original/first_round_testing_data.csv'\n",
    "first_round_training_data_path = project_path + '/data/original/first_round_training_data.csv'\n",
    "\n",
    "first_round_testing_data = pd.read_csv(first_round_testing_data_path)\n",
    "first_round_training_data = pd.read_csv(first_round_training_data_path)\n",
    "\n",
    "select_columns = ['Parameter1', 'Parameter2', 'Parameter3',\n",
    "       'Parameter4', 'Parameter5', 'Parameter6', 'Parameter7', 'Parameter8',\n",
    "       'Parameter9', 'Parameter10']\n",
    "\n",
    "print(first_round_testing_data.columns)\n",
    "print(first_round_training_data.columns)\n"
   ]
  },
  {
   "cell_type": "code",
   "execution_count": 15,
   "outputs": [
    {
     "data": {
      "text/plain": "   Parameter1  Parameter2    Parameter3    Parameter4  Parameter5  Parameter6  \\\n0    0.235279    0.351488      0.186814      0.086456    1.434060    1.230409   \n1    0.043799   32.590688      0.886285     29.702490    0.027434    0.016852   \n2   21.466737   11.847792  79499.554454  13544.605343    0.027434    0.016852   \n3    0.703795    0.018080    317.015599     38.087562    0.428092    0.314162   \n4   10.447960   15.983891      0.996049     16.715690    0.477823    0.464037   \n\n   Parameter7  Parameter8  Parameter9  Parameter10  \n0    0.038483    2.931083    2.005852     0.195680  \n1    0.600827    0.118077  887.611257     0.523976  \n2    0.600827    0.118077  887.611257     0.523976  \n3    0.038483   17.850021    0.051850     0.010192  \n4    0.038483   17.850021    0.051850     0.010192  ",
      "text/html": "<div>\n<style scoped>\n    .dataframe tbody tr th:only-of-type {\n        vertical-align: middle;\n    }\n\n    .dataframe tbody tr th {\n        vertical-align: top;\n    }\n\n    .dataframe thead th {\n        text-align: right;\n    }\n</style>\n<table border=\"1\" class=\"dataframe\">\n  <thead>\n    <tr style=\"text-align: right;\">\n      <th></th>\n      <th>Parameter1</th>\n      <th>Parameter2</th>\n      <th>Parameter3</th>\n      <th>Parameter4</th>\n      <th>Parameter5</th>\n      <th>Parameter6</th>\n      <th>Parameter7</th>\n      <th>Parameter8</th>\n      <th>Parameter9</th>\n      <th>Parameter10</th>\n    </tr>\n  </thead>\n  <tbody>\n    <tr>\n      <th>0</th>\n      <td>0.235279</td>\n      <td>0.351488</td>\n      <td>0.186814</td>\n      <td>0.086456</td>\n      <td>1.434060</td>\n      <td>1.230409</td>\n      <td>0.038483</td>\n      <td>2.931083</td>\n      <td>2.005852</td>\n      <td>0.195680</td>\n    </tr>\n    <tr>\n      <th>1</th>\n      <td>0.043799</td>\n      <td>32.590688</td>\n      <td>0.886285</td>\n      <td>29.702490</td>\n      <td>0.027434</td>\n      <td>0.016852</td>\n      <td>0.600827</td>\n      <td>0.118077</td>\n      <td>887.611257</td>\n      <td>0.523976</td>\n    </tr>\n    <tr>\n      <th>2</th>\n      <td>21.466737</td>\n      <td>11.847792</td>\n      <td>79499.554454</td>\n      <td>13544.605343</td>\n      <td>0.027434</td>\n      <td>0.016852</td>\n      <td>0.600827</td>\n      <td>0.118077</td>\n      <td>887.611257</td>\n      <td>0.523976</td>\n    </tr>\n    <tr>\n      <th>3</th>\n      <td>0.703795</td>\n      <td>0.018080</td>\n      <td>317.015599</td>\n      <td>38.087562</td>\n      <td>0.428092</td>\n      <td>0.314162</td>\n      <td>0.038483</td>\n      <td>17.850021</td>\n      <td>0.051850</td>\n      <td>0.010192</td>\n    </tr>\n    <tr>\n      <th>4</th>\n      <td>10.447960</td>\n      <td>15.983891</td>\n      <td>0.996049</td>\n      <td>16.715690</td>\n      <td>0.477823</td>\n      <td>0.464037</td>\n      <td>0.038483</td>\n      <td>17.850021</td>\n      <td>0.051850</td>\n      <td>0.010192</td>\n    </tr>\n  </tbody>\n</table>\n</div>"
     },
     "metadata": {},
     "output_type": "execute_result",
     "execution_count": 15
    }
   ],
   "source": [
    "data = pd.concat([first_round_testing_data[select_columns], first_round_training_data[select_columns]], axis=0, ignore_index=True)\n",
    "\n",
    "data.head()\n"
   ],
   "metadata": {
    "collapsed": false,
    "pycharm": {
     "name": "#%%\n",
     "is_executing": false
    }
   }
  },
  {
   "cell_type": "code",
   "execution_count": 16,
   "outputs": [
    {
     "name": "stdout",
     "text": [
      "0     2565\n1     2044\n2     1423\n3      975\n7      931\n5      755\n4      668\n9      357\n8      290\n28     230\n6      213\n16     212\n12     199\n13     181\n14     144\n35     122\n31     114\n18     112\n10     108\n20     106\n25      88\n22      85\n43      35\n39      32\n48       3\n60       3\n84       3\n67       1\n75       1\nName: Parameter5, dtype: int64\n"
     ],
     "output_type": "stream"
    }
   ],
   "source": [
    "data['Parameter5'] = data['Parameter5'].apply(lambda x: int(round(x)))\n",
    "print(data['Parameter5'].value_counts())\n"
   ],
   "metadata": {
    "collapsed": false,
    "pycharm": {
     "name": "#%%\n",
     "is_executing": false
    }
   }
  },
  {
   "cell_type": "code",
   "execution_count": 17,
   "outputs": [
    {
     "name": "stdout",
     "text": [
      "0     3051\n1     1563\n3     1124\n2     1079\n11     834\n4      669\n6      668\n5      517\n7      504\n9      362\n16     344\n19     294\n13     294\n23     277\n28     262\n34     120\n41      38\nName: Parameter6, dtype: int64\n"
     ],
     "output_type": "stream"
    }
   ],
   "source": [
    "data['Parameter6'] = data['Parameter6'].apply(lambda x: int(round(x)))\n",
    "print(data['Parameter6'].value_counts())\n"
   ],
   "metadata": {
    "collapsed": false,
    "pycharm": {
     "name": "#%%\n",
     "is_executing": false
    }
   }
  },
  {
   "cell_type": "code",
   "execution_count": 18,
   "outputs": [
    {
     "name": "stdout",
     "text": [
      "0        5166\n1        3152\n2        1761\n146       733\n2287      655\n37        186\n579       154\n1150       88\n9          70\n35699      29\n9035        6\nName: Parameter7, dtype: int64\n"
     ],
     "output_type": "stream"
    }
   ],
   "source": [
    "data['Parameter7'] = data['Parameter7'].apply(lambda x: int(round(x)))\n",
    "print(data['Parameter7'].value_counts())\n"
   ],
   "metadata": {
    "collapsed": false,
    "pycharm": {
     "name": "#%%\n",
     "is_executing": false
    }
   }
  },
  {
   "cell_type": "code",
   "execution_count": 19,
   "outputs": [
    {
     "name": "stdout",
     "text": [
      "0        5527\n18       3508\n15       1409\n3         834\n7         334\n22        130\n1209       96\n162        50\n10         44\n73         43\n4           9\n542         4\n66985       3\n1           3\n20086       3\n8999        1\n363         1\n243         1\nName: Parameter8, dtype: int64\n"
     ],
     "output_type": "stream"
    }
   ],
   "source": [
    "data['Parameter8'] = data['Parameter8'].apply(lambda x: int(round(x)))\n",
    "print(data['Parameter8'].value_counts())\n"
   ],
   "metadata": {
    "collapsed": false,
    "pycharm": {
     "name": "#%%\n",
     "is_executing": false
    }
   }
  },
  {
   "cell_type": "code",
   "execution_count": 20,
   "outputs": [
    {
     "name": "stdout",
     "text": [
      "1            5566\n0            2481\n7            2338\n888           613\n78            341\n262           313\n2             224\n23            101\n10153           6\n173808298       5\n1328408         4\n4887            3\n16530           3\n116135          1\n3002            1\nName: Parameter9, dtype: int64\n"
     ],
     "output_type": "stream"
    }
   ],
   "source": [
    "data['Parameter9'] = data['Parameter9'].apply(lambda x: int(round(x)))\n",
    "print(data['Parameter9'].value_counts())\n"
   ],
   "metadata": {
    "collapsed": false,
    "pycharm": {
     "name": "#%%\n",
     "is_executing": false
    }
   }
  },
  {
   "cell_type": "code",
   "execution_count": 21,
   "outputs": [
    {
     "name": "stdout",
     "text": [
      "0      5328\n1      1456\n14      503\n3       441\n7       407\n37      405\n4       374\n27      372\n10      367\n5       350\n517     300\n19      283\n2       279\n52      205\n72      191\n139     190\n100     179\n193     147\n268     116\n372     107\nName: Parameter10, dtype: int64\n"
     ],
     "output_type": "stream"
    }
   ],
   "source": [
    "data['Parameter10'] = data['Parameter10'].apply(lambda x: int(round(x)))\n",
    "print(data['Parameter10'].value_counts())\n"
   ],
   "metadata": {
    "collapsed": false,
    "pycharm": {
     "name": "#%%\n",
     "is_executing": false
    }
   }
  },
  {
   "cell_type": "code",
   "execution_count": 22,
   "outputs": [],
   "source": [
    "import numpy as np\n",
    "import pandas as pd\n",
    "from sklearn.model_selection import StratifiedKFold, KFold\n",
    "from itertools import product\n",
    "\n",
    "\n",
    "class MeanEncoder:\n",
    "    def __init__(self, categorical_features, n_splits=5, target_type='classification', prior_weight_func=None):\n",
    "        \"\"\"\n",
    "        :param categorical_features: list of str, the name of the categorical columns to encode\n",
    "\n",
    "        :param n_splits: the number of splits used in mean encoding\n",
    "\n",
    "        :param target_type: str, 'regression' or 'classification'\n",
    "\n",
    "        :param prior_weight_func:\n",
    "        a function that takes in the number of observations, and outputs prior weight\n",
    "        when a dict is passed, the default exponential decay function will be used:\n",
    "        k: the number of observations needed for the posterior to be weighted equally as the prior\n",
    "        f: larger f --> smaller slope\n",
    "        \"\"\"\n",
    "\n",
    "        self.categorical_features = categorical_features\n",
    "        self.n_splits = n_splits\n",
    "        self.learned_stats = {}\n",
    "\n",
    "        if target_type == 'classification':\n",
    "            self.target_type = target_type\n",
    "            self.target_values = []\n",
    "        else:\n",
    "            self.target_type = 'regression'\n",
    "            self.target_values = None\n",
    "\n",
    "        if isinstance(prior_weight_func, dict):\n",
    "            self.prior_weight_func = eval('lambda x: 1 / (1 + np.exp((x - k) / f))', dict(prior_weight_func, np=np))\n",
    "        elif callable(prior_weight_func):\n",
    "            self.prior_weight_func = prior_weight_func\n",
    "        else:\n",
    "            self.prior_weight_func = lambda x: 1 / (1 + np.exp((x - 2) / 1))\n",
    "\n",
    "    @staticmethod\n",
    "    def mean_encode_subroutine(X_train, y_train, X_test, variable, target, prior_weight_func):\n",
    "        X_train = X_train[[variable]].copy()\n",
    "        X_test = X_test[[variable]].copy()\n",
    "\n",
    "        if target is not None:\n",
    "            nf_name = '{}_pred_{}'.format(variable, target)\n",
    "            X_train['pred_temp'] = (y_train == target).astype(int)  # classification\n",
    "        else:\n",
    "            nf_name = '{}_pred'.format(variable)\n",
    "            X_train['pred_temp'] = y_train  # regression\n",
    "        prior = X_train['pred_temp'].mean()\n",
    "\n",
    "        col_avg_y = X_train.groupby(by=variable, axis=0)['pred_temp'].agg({'mean': 'mean', 'beta': 'size'})\n",
    "        col_avg_y['beta'] = prior_weight_func(col_avg_y['beta'])\n",
    "        col_avg_y[nf_name] = col_avg_y['beta'] * prior + (1 - col_avg_y['beta']) * col_avg_y['mean']\n",
    "        col_avg_y.drop(['beta', 'mean'], axis=1, inplace=True)\n",
    "\n",
    "        nf_train = X_train.join(col_avg_y, on=variable)[nf_name].values\n",
    "        nf_test = X_test.join(col_avg_y, on=variable).fillna(prior, inplace=False)[nf_name].values\n",
    "\n",
    "        return nf_train, nf_test, prior, col_avg_y\n",
    "\n",
    "    def fit_transform(self, X, y):\n",
    "        \"\"\"\n",
    "        :param X: pandas DataFrame, n_samples * n_features\n",
    "        :param y: pandas Series or numpy array, n_samples\n",
    "        :return X_new: the transformed pandas DataFrame containing mean-encoded categorical features\n",
    "        \"\"\"\n",
    "        X_new = X.copy()\n",
    "        if self.target_type == 'classification':\n",
    "            skf = StratifiedKFold(self.n_splits)\n",
    "        else:\n",
    "            skf = KFold(self.n_splits)\n",
    "\n",
    "        if self.target_type == 'classification':\n",
    "            self.target_values = sorted(set(y))\n",
    "            self.learned_stats = {'{}_pred_{}'.format(variable, target): [] for variable, target in\n",
    "                                  product(self.categorical_features, self.target_values)}\n",
    "            for variable, target in product(self.categorical_features, self.target_values):\n",
    "                nf_name = '{}_pred_{}'.format(variable, target)\n",
    "                X_new.loc[:, nf_name] = np.nan\n",
    "                for large_ind, small_ind in skf.split(y, y):\n",
    "                    nf_large, nf_small, prior, col_avg_y = MeanEncoder.mean_encode_subroutine(\n",
    "                        X_new.iloc[large_ind], y.iloc[large_ind], X_new.iloc[small_ind], variable, target,\n",
    "                        self.prior_weight_func)\n",
    "                    X_new.iloc[small_ind, -1] = nf_small\n",
    "                    self.learned_stats[nf_name].append((prior, col_avg_y))\n",
    "        else:\n",
    "            self.learned_stats = {'{}_pred'.format(variable): [] for variable in self.categorical_features}\n",
    "            for variable in self.categorical_features:\n",
    "                nf_name = '{}_pred'.format(variable)\n",
    "                X_new.loc[:, nf_name] = np.nan\n",
    "                for large_ind, small_ind in skf.split(y, y):\n",
    "                    nf_large, nf_small, prior, col_avg_y = MeanEncoder.mean_encode_subroutine(\n",
    "                        X_new.iloc[large_ind], y.iloc[large_ind], X_new.iloc[small_ind], variable, None,\n",
    "                        self.prior_weight_func)\n",
    "                    X_new.iloc[small_ind, -1] = nf_small\n",
    "                    self.learned_stats[nf_name].append((prior, col_avg_y))\n",
    "        return X_new\n",
    "\n",
    "    def transform(self, X):\n",
    "        \"\"\"\n",
    "        :param X: pandas DataFrame, n_samples * n_features\n",
    "        :return X_new: the transformed pandas DataFrame containing mean-encoded categorical features\n",
    "        \"\"\"\n",
    "        X_new = X.copy()\n",
    "\n",
    "        if self.target_type == 'classification':\n",
    "            for variable, target in product(self.categorical_features, self.target_values):\n",
    "                nf_name = '{}_pred_{}'.format(variable, target)\n",
    "                X_new[nf_name] = 0\n",
    "                for prior, col_avg_y in self.learned_stats[nf_name]:\n",
    "                    X_new[nf_name] += X_new[[variable]].join(col_avg_y, on=variable).fillna(prior, inplace=False)[\n",
    "                        nf_name]\n",
    "                X_new[nf_name] /= self.n_splits\n",
    "        else:\n",
    "            for variable in self.categorical_features:\n",
    "                nf_name = '{}_pred'.format(variable)\n",
    "                X_new[nf_name] = 0\n",
    "                for prior, col_avg_y in self.learned_stats[nf_name]:\n",
    "                    X_new[nf_name] += X_new[[variable]].join(col_avg_y, on=variable).fillna(prior, inplace=False)[\n",
    "                        nf_name]\n",
    "                X_new[nf_name] /= self.n_splits\n",
    "\n",
    "        return X_new\n"
   ],
   "metadata": {
    "collapsed": false,
    "pycharm": {
     "name": "#%%\n",
     "is_executing": false
    }
   }
  },
  {
   "cell_type": "code",
   "execution_count": 25,
   "outputs": [
    {
     "name": "stdout",
     "text": [
      "12000\n6000\n6000\n   Parameter1  Parameter2    Parameter3    Parameter4  Parameter5  Parameter6  \\\n0    0.235279    0.351488      0.186814      0.086456           1           1   \n1    0.043799   32.590688      0.886285     29.702490           0           0   \n2   21.466737   11.847792  79499.554454  13544.605343           0           0   \n3    0.703795    0.018080    317.015599     38.087562           0           0   \n4   10.447960   15.983891      0.996049     16.715690           0           0   \n\n   Parameter7  Parameter8  Parameter9  Parameter10  \n0           0           3           2            0  \n1           1           0         888            1  \n2           1           0         888            1  \n3           0          18           0            0  \n4           0          18           0            0  \n      Parameter1  Parameter2  Parameter3  Parameter4  Parameter5  Parameter6  \\\n6000    0.001660    0.591013  147.608373   38.186345           0           0   \n6001    1.601749    0.015052    0.035864   51.130326           0           0   \n6002    0.098039   69.233685    0.080920    0.112265           0           0   \n6003   18.181860    0.047325    0.018061    1.098102           0           0   \n6004    0.012085    0.008749    0.005509  524.327396           0           0   \n\n      Parameter7  Parameter8  Parameter9  Parameter10  \n6000        2287           0           1            1  \n6001        2287           0           1            1  \n6002        2287           0           1            1  \n6003        2287           0           1            1  \n6004        2287           0           1            1  \n0    2417\n2    1584\n3    1107\n1     892\nName: Quality_label, dtype: int64\n"
     ],
     "output_type": "stream"
    }
   ],
   "source": [
    "print(data.shape[0])\n",
    "print(first_round_training_data.shape[0])\n",
    "print(first_round_testing_data.shape[0])\n",
    "\n",
    "\n",
    "first_round_training_data['Quality_label'] = first_round_training_data['Quality_label'].map(dict(zip(first_round_training_data['Quality_label'].unique(), range(first_round_training_data['Quality_label'].nunique()))))\n",
    "y = first_round_training_data['Quality_label']\n",
    "\n",
    "X = data.loc[:first_round_training_data.shape[0],:]\n",
    "X_test = data.loc[first_round_training_data.shape[0]:,]\n",
    "\n",
    "print(X.head())\n",
    "print(X_test.head())\n",
    "print(y.value_counts())\n"
   ],
   "metadata": {
    "collapsed": false,
    "pycharm": {
     "name": "#%%\n",
     "is_executing": false
    }
   }
  },
  {
   "cell_type": "code",
   "execution_count": 26,
   "outputs": [
    {
     "name": "stderr",
     "text": [
      "/home/wjunneng/Python/anaconda3/envs/lightgbm/lib/python3.6/site-packages/ipykernel_launcher.py:54: FutureWarning: using a dict on a Series for aggregation\nis deprecated and will be removed in a future version. Use                 named aggregation instead.\n\n    >>> grouper.agg(name_1=func_1, name_2=func_2)\n\n/home/wjunneng/Python/anaconda3/envs/lightgbm/lib/python3.6/site-packages/pandas/core/series.py:853: RuntimeWarning: overflow encountered in exp\n  result = getattr(ufunc, method)(*inputs, **kwargs)\n/home/wjunneng/Python/anaconda3/envs/lightgbm/lib/python3.6/site-packages/ipykernel_launcher.py:54: FutureWarning: using a dict on a Series for aggregation\nis deprecated and will be removed in a future version. Use                 named aggregation instead.\n\n    >>> grouper.agg(name_1=func_1, name_2=func_2)\n\n/home/wjunneng/Python/anaconda3/envs/lightgbm/lib/python3.6/site-packages/pandas/core/series.py:853: RuntimeWarning: overflow encountered in exp\n  result = getattr(ufunc, method)(*inputs, **kwargs)\n/home/wjunneng/Python/anaconda3/envs/lightgbm/lib/python3.6/site-packages/ipykernel_launcher.py:54: FutureWarning: using a dict on a Series for aggregation\nis deprecated and will be removed in a future version. Use                 named aggregation instead.\n\n    >>> grouper.agg(name_1=func_1, name_2=func_2)\n\n/home/wjunneng/Python/anaconda3/envs/lightgbm/lib/python3.6/site-packages/pandas/core/series.py:853: RuntimeWarning: overflow encountered in exp\n  result = getattr(ufunc, method)(*inputs, **kwargs)\n/home/wjunneng/Python/anaconda3/envs/lightgbm/lib/python3.6/site-packages/ipykernel_launcher.py:54: FutureWarning: using a dict on a Series for aggregation\nis deprecated and will be removed in a future version. Use                 named aggregation instead.\n\n    >>> grouper.agg(name_1=func_1, name_2=func_2)\n\n/home/wjunneng/Python/anaconda3/envs/lightgbm/lib/python3.6/site-packages/pandas/core/series.py:853: RuntimeWarning: overflow encountered in exp\n  result = getattr(ufunc, method)(*inputs, **kwargs)\n/home/wjunneng/Python/anaconda3/envs/lightgbm/lib/python3.6/site-packages/ipykernel_launcher.py:54: FutureWarning: using a dict on a Series for aggregation\nis deprecated and will be removed in a future version. Use                 named aggregation instead.\n\n    >>> grouper.agg(name_1=func_1, name_2=func_2)\n\n/home/wjunneng/Python/anaconda3/envs/lightgbm/lib/python3.6/site-packages/pandas/core/series.py:853: RuntimeWarning: overflow encountered in exp\n  result = getattr(ufunc, method)(*inputs, **kwargs)\n",
      "/home/wjunneng/Python/anaconda3/envs/lightgbm/lib/python3.6/site-packages/ipykernel_launcher.py:54: FutureWarning: using a dict on a Series for aggregation\nis deprecated and will be removed in a future version. Use                 named aggregation instead.\n\n    >>> grouper.agg(name_1=func_1, name_2=func_2)\n\n/home/wjunneng/Python/anaconda3/envs/lightgbm/lib/python3.6/site-packages/pandas/core/series.py:853: RuntimeWarning: overflow encountered in exp\n  result = getattr(ufunc, method)(*inputs, **kwargs)\n/home/wjunneng/Python/anaconda3/envs/lightgbm/lib/python3.6/site-packages/ipykernel_launcher.py:54: FutureWarning: using a dict on a Series for aggregation\nis deprecated and will be removed in a future version. Use                 named aggregation instead.\n\n    >>> grouper.agg(name_1=func_1, name_2=func_2)\n\n/home/wjunneng/Python/anaconda3/envs/lightgbm/lib/python3.6/site-packages/pandas/core/series.py:853: RuntimeWarning: overflow encountered in exp\n  result = getattr(ufunc, method)(*inputs, **kwargs)\n/home/wjunneng/Python/anaconda3/envs/lightgbm/lib/python3.6/site-packages/ipykernel_launcher.py:54: FutureWarning: using a dict on a Series for aggregation\nis deprecated and will be removed in a future version. Use                 named aggregation instead.\n\n    >>> grouper.agg(name_1=func_1, name_2=func_2)\n\n/home/wjunneng/Python/anaconda3/envs/lightgbm/lib/python3.6/site-packages/pandas/core/series.py:853: RuntimeWarning: overflow encountered in exp\n  result = getattr(ufunc, method)(*inputs, **kwargs)\n/home/wjunneng/Python/anaconda3/envs/lightgbm/lib/python3.6/site-packages/ipykernel_launcher.py:54: FutureWarning: using a dict on a Series for aggregation\nis deprecated and will be removed in a future version. Use                 named aggregation instead.\n\n    >>> grouper.agg(name_1=func_1, name_2=func_2)\n\n/home/wjunneng/Python/anaconda3/envs/lightgbm/lib/python3.6/site-packages/pandas/core/series.py:853: RuntimeWarning: overflow encountered in exp\n  result = getattr(ufunc, method)(*inputs, **kwargs)\n/home/wjunneng/Python/anaconda3/envs/lightgbm/lib/python3.6/site-packages/ipykernel_launcher.py:54: FutureWarning: using a dict on a Series for aggregation\nis deprecated and will be removed in a future version. Use                 named aggregation instead.\n\n    >>> grouper.agg(name_1=func_1, name_2=func_2)\n\n/home/wjunneng/Python/anaconda3/envs/lightgbm/lib/python3.6/site-packages/pandas/core/series.py:853: RuntimeWarning: overflow encountered in exp\n  result = getattr(ufunc, method)(*inputs, **kwargs)\n",
      "/home/wjunneng/Python/anaconda3/envs/lightgbm/lib/python3.6/site-packages/ipykernel_launcher.py:54: FutureWarning: using a dict on a Series for aggregation\nis deprecated and will be removed in a future version. Use                 named aggregation instead.\n\n    >>> grouper.agg(name_1=func_1, name_2=func_2)\n\n/home/wjunneng/Python/anaconda3/envs/lightgbm/lib/python3.6/site-packages/pandas/core/series.py:853: RuntimeWarning: overflow encountered in exp\n  result = getattr(ufunc, method)(*inputs, **kwargs)\n/home/wjunneng/Python/anaconda3/envs/lightgbm/lib/python3.6/site-packages/ipykernel_launcher.py:54: FutureWarning: using a dict on a Series for aggregation\nis deprecated and will be removed in a future version. Use                 named aggregation instead.\n\n    >>> grouper.agg(name_1=func_1, name_2=func_2)\n\n/home/wjunneng/Python/anaconda3/envs/lightgbm/lib/python3.6/site-packages/pandas/core/series.py:853: RuntimeWarning: overflow encountered in exp\n  result = getattr(ufunc, method)(*inputs, **kwargs)\n/home/wjunneng/Python/anaconda3/envs/lightgbm/lib/python3.6/site-packages/ipykernel_launcher.py:54: FutureWarning: using a dict on a Series for aggregation\nis deprecated and will be removed in a future version. Use                 named aggregation instead.\n\n    >>> grouper.agg(name_1=func_1, name_2=func_2)\n\n/home/wjunneng/Python/anaconda3/envs/lightgbm/lib/python3.6/site-packages/pandas/core/series.py:853: RuntimeWarning: overflow encountered in exp\n  result = getattr(ufunc, method)(*inputs, **kwargs)\n/home/wjunneng/Python/anaconda3/envs/lightgbm/lib/python3.6/site-packages/ipykernel_launcher.py:54: FutureWarning: using a dict on a Series for aggregation\nis deprecated and will be removed in a future version. Use                 named aggregation instead.\n\n    >>> grouper.agg(name_1=func_1, name_2=func_2)\n\n/home/wjunneng/Python/anaconda3/envs/lightgbm/lib/python3.6/site-packages/pandas/core/series.py:853: RuntimeWarning: overflow encountered in exp\n  result = getattr(ufunc, method)(*inputs, **kwargs)\n/home/wjunneng/Python/anaconda3/envs/lightgbm/lib/python3.6/site-packages/ipykernel_launcher.py:54: FutureWarning: using a dict on a Series for aggregation\nis deprecated and will be removed in a future version. Use                 named aggregation instead.\n\n    >>> grouper.agg(name_1=func_1, name_2=func_2)\n\n/home/wjunneng/Python/anaconda3/envs/lightgbm/lib/python3.6/site-packages/pandas/core/series.py:853: RuntimeWarning: overflow encountered in exp\n  result = getattr(ufunc, method)(*inputs, **kwargs)\n",
      "/home/wjunneng/Python/anaconda3/envs/lightgbm/lib/python3.6/site-packages/ipykernel_launcher.py:54: FutureWarning: using a dict on a Series for aggregation\nis deprecated and will be removed in a future version. Use                 named aggregation instead.\n\n    >>> grouper.agg(name_1=func_1, name_2=func_2)\n\n/home/wjunneng/Python/anaconda3/envs/lightgbm/lib/python3.6/site-packages/pandas/core/series.py:853: RuntimeWarning: overflow encountered in exp\n  result = getattr(ufunc, method)(*inputs, **kwargs)\n/home/wjunneng/Python/anaconda3/envs/lightgbm/lib/python3.6/site-packages/ipykernel_launcher.py:54: FutureWarning: using a dict on a Series for aggregation\nis deprecated and will be removed in a future version. Use                 named aggregation instead.\n\n    >>> grouper.agg(name_1=func_1, name_2=func_2)\n\n/home/wjunneng/Python/anaconda3/envs/lightgbm/lib/python3.6/site-packages/pandas/core/series.py:853: RuntimeWarning: overflow encountered in exp\n  result = getattr(ufunc, method)(*inputs, **kwargs)\n/home/wjunneng/Python/anaconda3/envs/lightgbm/lib/python3.6/site-packages/ipykernel_launcher.py:54: FutureWarning: using a dict on a Series for aggregation\nis deprecated and will be removed in a future version. Use                 named aggregation instead.\n\n    >>> grouper.agg(name_1=func_1, name_2=func_2)\n\n/home/wjunneng/Python/anaconda3/envs/lightgbm/lib/python3.6/site-packages/pandas/core/series.py:853: RuntimeWarning: overflow encountered in exp\n  result = getattr(ufunc, method)(*inputs, **kwargs)\n/home/wjunneng/Python/anaconda3/envs/lightgbm/lib/python3.6/site-packages/ipykernel_launcher.py:54: FutureWarning: using a dict on a Series for aggregation\nis deprecated and will be removed in a future version. Use                 named aggregation instead.\n\n    >>> grouper.agg(name_1=func_1, name_2=func_2)\n\n/home/wjunneng/Python/anaconda3/envs/lightgbm/lib/python3.6/site-packages/pandas/core/series.py:853: RuntimeWarning: overflow encountered in exp\n  result = getattr(ufunc, method)(*inputs, **kwargs)\n/home/wjunneng/Python/anaconda3/envs/lightgbm/lib/python3.6/site-packages/ipykernel_launcher.py:54: FutureWarning: using a dict on a Series for aggregation\nis deprecated and will be removed in a future version. Use                 named aggregation instead.\n\n    >>> grouper.agg(name_1=func_1, name_2=func_2)\n\n/home/wjunneng/Python/anaconda3/envs/lightgbm/lib/python3.6/site-packages/pandas/core/series.py:853: RuntimeWarning: overflow encountered in exp\n  result = getattr(ufunc, method)(*inputs, **kwargs)\n",
      "/home/wjunneng/Python/anaconda3/envs/lightgbm/lib/python3.6/site-packages/ipykernel_launcher.py:54: FutureWarning: using a dict on a Series for aggregation\nis deprecated and will be removed in a future version. Use                 named aggregation instead.\n\n    >>> grouper.agg(name_1=func_1, name_2=func_2)\n\n/home/wjunneng/Python/anaconda3/envs/lightgbm/lib/python3.6/site-packages/pandas/core/series.py:853: RuntimeWarning: overflow encountered in exp\n  result = getattr(ufunc, method)(*inputs, **kwargs)\n/home/wjunneng/Python/anaconda3/envs/lightgbm/lib/python3.6/site-packages/ipykernel_launcher.py:54: FutureWarning: using a dict on a Series for aggregation\nis deprecated and will be removed in a future version. Use                 named aggregation instead.\n\n    >>> grouper.agg(name_1=func_1, name_2=func_2)\n\n/home/wjunneng/Python/anaconda3/envs/lightgbm/lib/python3.6/site-packages/pandas/core/series.py:853: RuntimeWarning: overflow encountered in exp\n  result = getattr(ufunc, method)(*inputs, **kwargs)\n/home/wjunneng/Python/anaconda3/envs/lightgbm/lib/python3.6/site-packages/ipykernel_launcher.py:54: FutureWarning: using a dict on a Series for aggregation\nis deprecated and will be removed in a future version. Use                 named aggregation instead.\n\n    >>> grouper.agg(name_1=func_1, name_2=func_2)\n\n/home/wjunneng/Python/anaconda3/envs/lightgbm/lib/python3.6/site-packages/pandas/core/series.py:853: RuntimeWarning: overflow encountered in exp\n  result = getattr(ufunc, method)(*inputs, **kwargs)\n/home/wjunneng/Python/anaconda3/envs/lightgbm/lib/python3.6/site-packages/ipykernel_launcher.py:54: FutureWarning: using a dict on a Series for aggregation\nis deprecated and will be removed in a future version. Use                 named aggregation instead.\n\n    >>> grouper.agg(name_1=func_1, name_2=func_2)\n\n/home/wjunneng/Python/anaconda3/envs/lightgbm/lib/python3.6/site-packages/pandas/core/series.py:853: RuntimeWarning: overflow encountered in exp\n  result = getattr(ufunc, method)(*inputs, **kwargs)\n"
     ],
     "output_type": "stream"
    },
    {
     "name": "stdout",
     "text": [
      "0     1232\n1      966\n2      734\n3      541\n7      456\n5      411\n4      367\n9      196\n8      165\n16     123\n6      120\n12     110\n13     103\n14      85\n20      73\n28      68\n18      65\n10      53\n35      36\n31      33\n22      23\n25      22\n43       9\n39       3\n60       2\n84       2\n48       1\n67       1\n75       1\nName: Parameter5, dtype: int64\n0     1334\n1     1078\n2      689\n7      475\n3      434\n5      344\n4      301\n28     162\n9      161\n8      125\n6       93\n12      89\n16      89\n35      86\n31      81\n13      78\n25      66\n22      62\n14      59\n10      55\n18      47\n20      33\n39      29\n43      26\n48       2\n84       1\n60       1\nName: Parameter5, dtype: int64\n0     1458\n1      796\n3      572\n2      514\n11     410\n6      372\n4      360\n7      281\n5      253\n16     196\n9      183\n19     177\n13     137\n28     134\n23     120\n34      34\n41       4\nName: Parameter6, dtype: int64\n0     1594\n1      767\n2      565\n3      552\n11     424\n4      309\n6      296\n5      264\n7      223\n9      179\n23     157\n13     157\n16     148\n28     128\n19     117\n34      86\n41      34\nName: Parameter6, dtype: int64\n0        2624\n1        1619\n2         874\n146       327\n2287      306\n37         83\n579        64\n1150       49\n9          41\n35699      11\n9035        3\nName: Parameter7, dtype: int64\n0        2542\n1        1533\n2         887\n146       406\n2287      350\n37        103\n579        90\n1150       39\n9          29\n35699      18\n9035        3\nName: Parameter7, dtype: int64\n0        2760\n18       1856\n15        651\n3         396\n7         143\n22         60\n1209       52\n162        36\n73         19\n10         14\n4           4\n66985       3\n20086       2\n542         2\n1           2\n243         1\nName: Parameter8, dtype: int64\n0        2768\n18       1652\n15        758\n3         438\n7         191\n22         70\n1209       44\n10         30\n73         24\n162        14\n4           5\n542         2\n20086       1\n8999        1\n363         1\n1           1\nName: Parameter8, dtype: int64\n1            2734\n0            1303\n7            1158\n888           311\n262           179\n78            177\n2              71\n23             52\n10153           5\n173808298       3\n1328408         3\n16530           2\n4887            2\n3002            1\nName: Parameter9, dtype: int64\n1            2833\n7            1180\n0            1178\n888           302\n78            164\n2             153\n262           134\n23             49\n173808298       2\n116135          1\n16530           1\n10153           1\n4887            1\n1328408         1\nName: Parameter9, dtype: int64\n0      2634\n1       712\n3       280\n14      275\n5       256\n10      238\n7       223\n4       157\n37      154\n19      148\n27      143\n2       134\n52      128\n517     120\n100     103\n193      82\n72       78\n139      49\n268      46\n372      41\nName: Parameter10, dtype: int64\n0      2694\n1       745\n37      251\n27      229\n14      228\n4       217\n7       184\n517     180\n3       161\n2       145\n139     141\n19      135\n10      129\n72      113\n5        94\n52       77\n100      76\n268      70\n372      66\n193      65\nName: Parameter10, dtype: int64\n"
     ],
     "output_type": "stream"
    }
   ],
   "source": [
    "columns = ['Parameter5', 'Parameter6', 'Parameter7', 'Parameter8', 'Parameter9', 'Parameter10']\n",
    "#声明需要平均数编码的特征\n",
    "MeanEnocodeFeature = columns\n",
    "#声明平均数编码的类\n",
    "ME = MeanEncoder(MeanEnocodeFeature)\n",
    "#对训练数据集的X和y进行拟合\n",
    "X = ME.fit_transform(X,y)\n",
    "#对测试集进行编码\n",
    "X_test = ME.transform(X_test)\n",
    "\n",
    "for column in columns:\n",
    "    print(X[column].value_counts())\n",
    "    print(X_test[column].value_counts())\n",
    "\n"
   ],
   "metadata": {
    "collapsed": false,
    "pycharm": {
     "name": "#%%\n",
     "is_executing": false
    }
   }
  },
  {
   "cell_type": "code",
   "execution_count": 13,
   "outputs": [
    {
     "name": "stderr",
     "text": [
      "/home/wjunneng/Python/anaconda3/envs/lightgbm/lib/python3.6/site-packages/ipykernel_launcher.py:54: FutureWarning: using a dict on a Series for aggregation\nis deprecated and will be removed in a future version. Use                 named aggregation instead.\n\n    >>> grouper.agg(name_1=func_1, name_2=func_2)\n\n/home/wjunneng/Python/anaconda3/envs/lightgbm/lib/python3.6/site-packages/pandas/core/series.py:853: RuntimeWarning: overflow encountered in exp\n  result = getattr(ufunc, method)(*inputs, **kwargs)\n/home/wjunneng/Python/anaconda3/envs/lightgbm/lib/python3.6/site-packages/ipykernel_launcher.py:54: FutureWarning: using a dict on a Series for aggregation\nis deprecated and will be removed in a future version. Use                 named aggregation instead.\n\n    >>> grouper.agg(name_1=func_1, name_2=func_2)\n\n/home/wjunneng/Python/anaconda3/envs/lightgbm/lib/python3.6/site-packages/pandas/core/series.py:853: RuntimeWarning: overflow encountered in exp\n  result = getattr(ufunc, method)(*inputs, **kwargs)\n",
      "/home/wjunneng/Python/anaconda3/envs/lightgbm/lib/python3.6/site-packages/ipykernel_launcher.py:54: FutureWarning: using a dict on a Series for aggregation\nis deprecated and will be removed in a future version. Use                 named aggregation instead.\n\n    >>> grouper.agg(name_1=func_1, name_2=func_2)\n\n/home/wjunneng/Python/anaconda3/envs/lightgbm/lib/python3.6/site-packages/pandas/core/series.py:853: RuntimeWarning: overflow encountered in exp\n  result = getattr(ufunc, method)(*inputs, **kwargs)\n/home/wjunneng/Python/anaconda3/envs/lightgbm/lib/python3.6/site-packages/ipykernel_launcher.py:54: FutureWarning: using a dict on a Series for aggregation\nis deprecated and will be removed in a future version. Use                 named aggregation instead.\n\n    >>> grouper.agg(name_1=func_1, name_2=func_2)\n\n/home/wjunneng/Python/anaconda3/envs/lightgbm/lib/python3.6/site-packages/pandas/core/series.py:853: RuntimeWarning: overflow encountered in exp\n  result = getattr(ufunc, method)(*inputs, **kwargs)\n/home/wjunneng/Python/anaconda3/envs/lightgbm/lib/python3.6/site-packages/ipykernel_launcher.py:54: FutureWarning: using a dict on a Series for aggregation\nis deprecated and will be removed in a future version. Use                 named aggregation instead.\n\n    >>> grouper.agg(name_1=func_1, name_2=func_2)\n\n/home/wjunneng/Python/anaconda3/envs/lightgbm/lib/python3.6/site-packages/pandas/core/series.py:853: RuntimeWarning: overflow encountered in exp\n  result = getattr(ufunc, method)(*inputs, **kwargs)\n/home/wjunneng/Python/anaconda3/envs/lightgbm/lib/python3.6/site-packages/ipykernel_launcher.py:54: FutureWarning: using a dict on a Series for aggregation\nis deprecated and will be removed in a future version. Use                 named aggregation instead.\n\n    >>> grouper.agg(name_1=func_1, name_2=func_2)\n\n/home/wjunneng/Python/anaconda3/envs/lightgbm/lib/python3.6/site-packages/pandas/core/series.py:853: RuntimeWarning: overflow encountered in exp\n  result = getattr(ufunc, method)(*inputs, **kwargs)\n",
      "/home/wjunneng/Python/anaconda3/envs/lightgbm/lib/python3.6/site-packages/ipykernel_launcher.py:54: FutureWarning: using a dict on a Series for aggregation\nis deprecated and will be removed in a future version. Use                 named aggregation instead.\n\n    >>> grouper.agg(name_1=func_1, name_2=func_2)\n\n/home/wjunneng/Python/anaconda3/envs/lightgbm/lib/python3.6/site-packages/pandas/core/series.py:853: RuntimeWarning: overflow encountered in exp\n  result = getattr(ufunc, method)(*inputs, **kwargs)\n/home/wjunneng/Python/anaconda3/envs/lightgbm/lib/python3.6/site-packages/ipykernel_launcher.py:54: FutureWarning: using a dict on a Series for aggregation\nis deprecated and will be removed in a future version. Use                 named aggregation instead.\n\n    >>> grouper.agg(name_1=func_1, name_2=func_2)\n\n/home/wjunneng/Python/anaconda3/envs/lightgbm/lib/python3.6/site-packages/pandas/core/series.py:853: RuntimeWarning: overflow encountered in exp\n  result = getattr(ufunc, method)(*inputs, **kwargs)\n/home/wjunneng/Python/anaconda3/envs/lightgbm/lib/python3.6/site-packages/ipykernel_launcher.py:54: FutureWarning: using a dict on a Series for aggregation\nis deprecated and will be removed in a future version. Use                 named aggregation instead.\n\n    >>> grouper.agg(name_1=func_1, name_2=func_2)\n\n/home/wjunneng/Python/anaconda3/envs/lightgbm/lib/python3.6/site-packages/pandas/core/series.py:853: RuntimeWarning: overflow encountered in exp\n  result = getattr(ufunc, method)(*inputs, **kwargs)\n/home/wjunneng/Python/anaconda3/envs/lightgbm/lib/python3.6/site-packages/ipykernel_launcher.py:54: FutureWarning: using a dict on a Series for aggregation\nis deprecated and will be removed in a future version. Use                 named aggregation instead.\n\n    >>> grouper.agg(name_1=func_1, name_2=func_2)\n\n/home/wjunneng/Python/anaconda3/envs/lightgbm/lib/python3.6/site-packages/pandas/core/series.py:853: RuntimeWarning: overflow encountered in exp\n  result = getattr(ufunc, method)(*inputs, **kwargs)\n",
      "/home/wjunneng/Python/anaconda3/envs/lightgbm/lib/python3.6/site-packages/ipykernel_launcher.py:54: FutureWarning: using a dict on a Series for aggregation\nis deprecated and will be removed in a future version. Use                 named aggregation instead.\n\n    >>> grouper.agg(name_1=func_1, name_2=func_2)\n\n/home/wjunneng/Python/anaconda3/envs/lightgbm/lib/python3.6/site-packages/pandas/core/series.py:853: RuntimeWarning: overflow encountered in exp\n  result = getattr(ufunc, method)(*inputs, **kwargs)\n/home/wjunneng/Python/anaconda3/envs/lightgbm/lib/python3.6/site-packages/ipykernel_launcher.py:54: FutureWarning: using a dict on a Series for aggregation\nis deprecated and will be removed in a future version. Use                 named aggregation instead.\n\n    >>> grouper.agg(name_1=func_1, name_2=func_2)\n\n/home/wjunneng/Python/anaconda3/envs/lightgbm/lib/python3.6/site-packages/pandas/core/series.py:853: RuntimeWarning: overflow encountered in exp\n  result = getattr(ufunc, method)(*inputs, **kwargs)\n/home/wjunneng/Python/anaconda3/envs/lightgbm/lib/python3.6/site-packages/ipykernel_launcher.py:54: FutureWarning: using a dict on a Series for aggregation\nis deprecated and will be removed in a future version. Use                 named aggregation instead.\n\n    >>> grouper.agg(name_1=func_1, name_2=func_2)\n\n/home/wjunneng/Python/anaconda3/envs/lightgbm/lib/python3.6/site-packages/pandas/core/series.py:853: RuntimeWarning: overflow encountered in exp\n  result = getattr(ufunc, method)(*inputs, **kwargs)\n/home/wjunneng/Python/anaconda3/envs/lightgbm/lib/python3.6/site-packages/ipykernel_launcher.py:54: FutureWarning: using a dict on a Series for aggregation\nis deprecated and will be removed in a future version. Use                 named aggregation instead.\n\n    >>> grouper.agg(name_1=func_1, name_2=func_2)\n\n/home/wjunneng/Python/anaconda3/envs/lightgbm/lib/python3.6/site-packages/pandas/core/series.py:853: RuntimeWarning: overflow encountered in exp\n  result = getattr(ufunc, method)(*inputs, **kwargs)\n",
      "/home/wjunneng/Python/anaconda3/envs/lightgbm/lib/python3.6/site-packages/ipykernel_launcher.py:54: FutureWarning: using a dict on a Series for aggregation\nis deprecated and will be removed in a future version. Use                 named aggregation instead.\n\n    >>> grouper.agg(name_1=func_1, name_2=func_2)\n\n/home/wjunneng/Python/anaconda3/envs/lightgbm/lib/python3.6/site-packages/pandas/core/series.py:853: RuntimeWarning: overflow encountered in exp\n  result = getattr(ufunc, method)(*inputs, **kwargs)\n/home/wjunneng/Python/anaconda3/envs/lightgbm/lib/python3.6/site-packages/ipykernel_launcher.py:54: FutureWarning: using a dict on a Series for aggregation\nis deprecated and will be removed in a future version. Use                 named aggregation instead.\n\n    >>> grouper.agg(name_1=func_1, name_2=func_2)\n\n/home/wjunneng/Python/anaconda3/envs/lightgbm/lib/python3.6/site-packages/pandas/core/series.py:853: RuntimeWarning: overflow encountered in exp\n  result = getattr(ufunc, method)(*inputs, **kwargs)\n/home/wjunneng/Python/anaconda3/envs/lightgbm/lib/python3.6/site-packages/ipykernel_launcher.py:54: FutureWarning: using a dict on a Series for aggregation\nis deprecated and will be removed in a future version. Use                 named aggregation instead.\n\n    >>> grouper.agg(name_1=func_1, name_2=func_2)\n\n/home/wjunneng/Python/anaconda3/envs/lightgbm/lib/python3.6/site-packages/pandas/core/series.py:853: RuntimeWarning: overflow encountered in exp\n  result = getattr(ufunc, method)(*inputs, **kwargs)\n/home/wjunneng/Python/anaconda3/envs/lightgbm/lib/python3.6/site-packages/ipykernel_launcher.py:54: FutureWarning: using a dict on a Series for aggregation\nis deprecated and will be removed in a future version. Use                 named aggregation instead.\n\n    >>> grouper.agg(name_1=func_1, name_2=func_2)\n\n/home/wjunneng/Python/anaconda3/envs/lightgbm/lib/python3.6/site-packages/pandas/core/series.py:853: RuntimeWarning: overflow encountered in exp\n  result = getattr(ufunc, method)(*inputs, **kwargs)\n",
      "/home/wjunneng/Python/anaconda3/envs/lightgbm/lib/python3.6/site-packages/ipykernel_launcher.py:54: FutureWarning: using a dict on a Series for aggregation\nis deprecated and will be removed in a future version. Use                 named aggregation instead.\n\n    >>> grouper.agg(name_1=func_1, name_2=func_2)\n\n/home/wjunneng/Python/anaconda3/envs/lightgbm/lib/python3.6/site-packages/pandas/core/series.py:853: RuntimeWarning: overflow encountered in exp\n  result = getattr(ufunc, method)(*inputs, **kwargs)\n/home/wjunneng/Python/anaconda3/envs/lightgbm/lib/python3.6/site-packages/ipykernel_launcher.py:54: FutureWarning: using a dict on a Series for aggregation\nis deprecated and will be removed in a future version. Use                 named aggregation instead.\n\n    >>> grouper.agg(name_1=func_1, name_2=func_2)\n\n/home/wjunneng/Python/anaconda3/envs/lightgbm/lib/python3.6/site-packages/pandas/core/series.py:853: RuntimeWarning: overflow encountered in exp\n  result = getattr(ufunc, method)(*inputs, **kwargs)\n/home/wjunneng/Python/anaconda3/envs/lightgbm/lib/python3.6/site-packages/ipykernel_launcher.py:54: FutureWarning: using a dict on a Series for aggregation\nis deprecated and will be removed in a future version. Use                 named aggregation instead.\n\n    >>> grouper.agg(name_1=func_1, name_2=func_2)\n\n/home/wjunneng/Python/anaconda3/envs/lightgbm/lib/python3.6/site-packages/pandas/core/series.py:853: RuntimeWarning: overflow encountered in exp\n  result = getattr(ufunc, method)(*inputs, **kwargs)\n/home/wjunneng/Python/anaconda3/envs/lightgbm/lib/python3.6/site-packages/ipykernel_launcher.py:54: FutureWarning: using a dict on a Series for aggregation\nis deprecated and will be removed in a future version. Use                 named aggregation instead.\n\n    >>> grouper.agg(name_1=func_1, name_2=func_2)\n\n/home/wjunneng/Python/anaconda3/envs/lightgbm/lib/python3.6/site-packages/pandas/core/series.py:853: RuntimeWarning: overflow encountered in exp\n  result = getattr(ufunc, method)(*inputs, **kwargs)\n",
      "/home/wjunneng/Python/anaconda3/envs/lightgbm/lib/python3.6/site-packages/ipykernel_launcher.py:54: FutureWarning: using a dict on a Series for aggregation\nis deprecated and will be removed in a future version. Use                 named aggregation instead.\n\n    >>> grouper.agg(name_1=func_1, name_2=func_2)\n\n/home/wjunneng/Python/anaconda3/envs/lightgbm/lib/python3.6/site-packages/pandas/core/series.py:853: RuntimeWarning: overflow encountered in exp\n  result = getattr(ufunc, method)(*inputs, **kwargs)\n/home/wjunneng/Python/anaconda3/envs/lightgbm/lib/python3.6/site-packages/ipykernel_launcher.py:54: FutureWarning: using a dict on a Series for aggregation\nis deprecated and will be removed in a future version. Use                 named aggregation instead.\n\n    >>> grouper.agg(name_1=func_1, name_2=func_2)\n\n/home/wjunneng/Python/anaconda3/envs/lightgbm/lib/python3.6/site-packages/pandas/core/series.py:853: RuntimeWarning: overflow encountered in exp\n  result = getattr(ufunc, method)(*inputs, **kwargs)\n"
     ],
     "output_type": "stream"
    },
    {
     "name": "stdout",
     "text": [
      "0     1232\n1      966\n2      734\n3      541\n7      456\n5      411\n4      367\n9      196\n8      165\n16     123\n6      120\n12     110\n13     103\n14      85\n20      73\n28      68\n18      65\n10      53\n35      36\n31      33\n22      23\n25      22\n43       9\n39       3\n60       2\n84       2\n48       1\n67       1\n75       1\nName: Parameter5, dtype: int64\n0     1334\n1     1078\n2      689\n7      475\n3      434\n5      344\n4      301\n28     162\n9      161\n8      125\n6       93\n12      89\n16      89\n35      86\n31      81\n13      78\n25      66\n22      62\n14      59\n10      55\n18      47\n20      33\n39      29\n43      26\n48       2\n84       1\n60       1\nName: Parameter5, dtype: int64\n",
      "0     1458\n1      796\n3      572\n2      514\n11     410\n6      372\n4      360\n7      281\n5      253\n16     196\n9      183\n19     177\n13     137\n28     134\n23     120\n34      34\n41       4\nName: Parameter6, dtype: int64\n0     1594\n1      767\n2      565\n3      552\n11     424\n4      309\n6      296\n5      264\n7      223\n9      179\n23     157\n13     157\n16     148\n28     128\n19     117\n34      86\n41      34\nName: Parameter6, dtype: int64\n",
      "0        2624\n1        1619\n2         874\n146       327\n2287      306\n37         83\n579        64\n1150       49\n9          41\n35699      11\n9035        3\nName: Parameter7, dtype: int64\n0        2542\n1        1533\n2         887\n146       406\n2287      350\n37        103\n579        90\n1150       39\n9          29\n35699      18\n9035        3\nName: Parameter7, dtype: int64\n",
      "0        2760\n18       1856\n15        651\n3         396\n7         143\n22         60\n1209       52\n162        36\n73         19\n10         14\n4           4\n66985       3\n20086       2\n542         2\n1           2\n243         1\nName: Parameter8, dtype: int64\n0        2768\n18       1652\n15        758\n3         438\n7         191\n22         70\n1209       44\n10         30\n73         24\n162        14\n4           5\n542         2\n20086       1\n8999        1\n363         1\n1           1\nName: Parameter8, dtype: int64\n",
      "1            2734\n0            1303\n7            1158\n888           311\n262           179\n78            177\n2              71\n23             52\n10153           5\n173808298       3\n1328408         3\n16530           2\n4887            2\n3002            1\nName: Parameter9, dtype: int64\n1            2833\n7            1180\n0            1178\n888           302\n78            164\n2             153\n262           134\n23             49\n173808298       2\n116135          1\n16530           1\n10153           1\n4887            1\n1328408         1\nName: Parameter9, dtype: int64\n",
      "0      2634\n1       712\n3       280\n14      275\n5       256\n10      238\n7       223\n4       157\n37      154\n19      148\n27      143\n2       134\n52      128\n517     120\n100     103\n193      82\n72       78\n139      49\n268      46\n372      41\nName: Parameter10, dtype: int64\n0      2694\n1       745\n37      251\n27      229\n14      228\n4       217\n7       184\n517     180\n3       161\n2       145\n139     141\n19      135\n10      129\n72      113\n5        94\n52       77\n100      76\n268      70\n372      66\n193      65\nName: Parameter10, dtype: int64\n"
     ],
     "output_type": "stream"
    }
   ],
   "source": [
    "for column in ['Parameter5', 'Parameter6', 'Parameter7', 'Parameter8', 'Parameter9', 'Parameter10']:\n",
    "    #声明需要平均数编码的特征\n",
    "    MeanEnocodeFeature = [column] \n",
    "    #声明平均数编码的类\n",
    "    ME = MeanEncoder(MeanEnocodeFeature)\n",
    "    #对训练数据集的X和y进行拟合\n",
    "    X = ME.fit_transform(X,y)\n",
    "    #对测试集进行编码\n",
    "    X_test = ME.transform(X_test)\n",
    "    \n",
    "    print(X[column].value_counts())\n",
    "    print(X_test[column].value_counts())\n"
   ],
   "metadata": {
    "collapsed": false,
    "pycharm": {
     "name": "#%%\n",
     "is_executing": false
    }
   }
  },
  {
   "cell_type": "code",
   "execution_count": null,
   "outputs": [],
   "source": [
    "\n"
   ],
   "metadata": {
    "collapsed": false,
    "pycharm": {
     "name": "#%%\n"
    }
   }
  }
 ],
 "metadata": {
  "language_info": {
   "codemirror_mode": {
    "name": "ipython",
    "version": 2
   },
   "file_extension": ".py",
   "mimetype": "text/x-python",
   "name": "python",
   "nbconvert_exporter": "python",
   "pygments_lexer": "ipython2",
   "version": "2.7.6"
  },
  "kernelspec": {
   "name": "pycharm-e50da876",
   "language": "python",
   "display_name": "PyCharm (ForecastScore)"
  },
  "pycharm": {
   "stem_cell": {
    "cell_type": "raw",
    "source": [],
    "metadata": {
     "collapsed": false
    }
   }
  }
 },
 "nbformat": 4,
 "nbformat_minor": 0
}