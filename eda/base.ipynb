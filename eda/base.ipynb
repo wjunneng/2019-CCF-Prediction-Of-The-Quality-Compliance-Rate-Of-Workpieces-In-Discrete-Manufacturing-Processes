{
 "cells": [
  {
   "cell_type": "code",
   "execution_count": 41,
   "metadata": {},
   "outputs": [],
   "source": [
    "# !pip install catboost==0.15.2\n",
    "# !pip install tqdm\n",
    "# !pip install xlrd\n",
    "import numpy as np\n",
    "import pandas as pd\n",
    "import catboost as cbt\n",
    "from sklearn.metrics import accuracy_score, roc_auc_score,log_loss\n",
    "import gc\n",
    "import math\n",
    "import time\n",
    "from tqdm import tqdm\n",
    "import datetime\n",
    "from sklearn.model_selection import KFold,StratifiedKFold\n",
    "from sklearn.preprocessing import LabelEncoder\n",
    "import matplotlib.pyplot as plt\n",
    "from datetime import datetime,timedelta\n",
    "import warnings\n",
    "import os\n",
    "warnings.filterwarnings('ignore')\n",
    "pd.options.display.max_columns = None\n",
    "pd.options.display.max_rows = None"
   ]
  },
  {
   "cell_type": "code",
   "execution_count": 42,
   "metadata": {},
   "outputs": [],
   "source": [
    "train = pd.read_csv('/home/aistudio/data/data11870/first_round_training_data.csv')\n",
    "test = pd.read_csv('/home/aistudio/data/data11870/first_round_testing_data.csv')\n",
    "submit = pd.read_csv('/home/aistudio/data/data11870/submit_example.csv')\n",
    "data = train.append(test).reset_index(drop=True)\n",
    "dit = {'Excellent':0,'Good':1,'Pass':2,'Fail':3}\n",
    "data['label'] = data['Quality_label'].map(dit)"
   ]
  },
  {
   "cell_type": "code",
   "execution_count": 43,
   "metadata": {},
   "outputs": [
    {
     "data": {
      "text/plain": [
       "(12000, 23)"
      ]
     },
     "execution_count": 43,
     "metadata": {},
     "output_type": "execute_result"
    }
   ],
   "source": [
    "fea_list = [i for i in test.columns if i not in ['Group']] \n",
    "cat_list = []\n",
    "lbl = LabelEncoder()\n",
    "for i in tqdm(fea_list):\n",
    "    if train['{}'.format(i)].nunique() < 6000:\n",
    "        cat_list.append('{}'.format(i))"
   ]
  },
  {
   "cell_type": "code",
   "execution_count": 1,
   "metadata": {},
   "outputs": [],
   "source": [
    "feature_name = [i for i in data.columns if i not in ['Attribute1','Attribute10', 'Attribute2', 'Attribute3', 'Attribute4', 'Attribute5',\n",
    " 'Attribute6', 'Attribute7', 'Attribute8', 'Attribute9', 'Quality_label','Group','label']]\n",
    "tr_index = ~data['label'].isnull()\n",
    "X_train = data[tr_index][feature_name].reset_index(drop=True)\n",
    "y = data[tr_index]['label'].reset_index(drop=True).astype(int)\n",
    "X_test = data[~tr_index][feature_name].reset_index(drop=True)\n",
    "\n",
    "print(X_train.shape,X_test.shape)\n",
    "oof = np.zeros((X_train.shape[0],4))\n",
    "prediction = np.zeros((X_test.shape[0],4))\n",
    "seeds = [19970412, 2019 * 2 + 1024, 4096, 2048, 1024]\n",
    "num_model_seed = 2\n",
    "for model_seed in range(num_model_seed):\n",
    "    print(model_seed + 1)\n",
    "    oof_cat = np.zeros((X_train.shape[0],4))\n",
    "    prediction_cat=np.zeros((X_test.shape[0],4))\n",
    "    skf = StratifiedKFold(n_splits=5, random_state=seeds[model_seed], shuffle=True)\n",
    "    for index, (train_index, test_index) in enumerate(skf.split(X_train, y)):\n",
    "        print(index)\n",
    "        train_x, test_x, train_y, test_y = X_train.iloc[train_index], X_train.iloc[test_index], y.iloc[train_index], y.iloc[test_index]\n",
    "        gc.collect()\n",
    "        cbt_model = cbt.CatBoostClassifier(iterations=100000,learning_rate=0.01,verbose=300,max_depth=7,#eval_metric='Accuracy',\n",
    "                                        early_stopping_rounds=1000,task_type='GPU',cat_features=cat_list,\n",
    "                                        loss_function='MultiClass')\n",
    "        cbt_model.fit(train_x, train_y ,eval_set=(test_x,test_y))\n",
    "        oof_cat[test_index] += cbt_model.predict_proba(test_x)\n",
    "        prediction_cat += cbt_model.predict_proba(X_test)/5\n",
    "        gc.collect()\n",
    "    oof += oof_cat / num_model_seed\n",
    "    prediction += prediction_cat / num_model_seed\n",
    "    print('logloss',log_loss(pd.get_dummies(y).values, oof_cat))\n",
    "    print('ac',accuracy_score(y, np.argmax(oof_cat,axis=1)))\n",
    "print('logloss',log_loss(pd.get_dummies(y).values, oof))\n",
    "print('ac',accuracy_score(y, np.argmax(oof,axis=1)))"
   ]
  },
  {
   "cell_type": "code",
   "execution_count": 47,
   "metadata": {},
   "outputs": [],
   "source": [
    "sub = test[['Group']]\n",
    "prob_cols = [i for i in submit.columns if i not in ['Group']]\n",
    "for i, f in enumerate(prob_cols):\n",
    "    sub[f] = prediction[:, i]\n",
    "for i in prob_cols:\n",
    "    sub[i] = sub.groupby('Group')[i].transform('mean')\n",
    "sub = sub.drop_duplicates()\n",
    "sub.to_csv(\"submission.csv\",index=False)"
   ]
  },
  {
   "cell_type": "code",
   "execution_count": null,
   "metadata": {},
   "outputs": [],
   "source": []
  }
 ],
 "metadata": {
  "kernelspec": {
   "display_name": "Python 3",
   "language": "python",
   "name": "python3"
  },
  "language_info": {
   "codemirror_mode": {
    "name": "ipython",
    "version": 3
   },
   "file_extension": ".py",
   "mimetype": "text/x-python",
   "name": "python",
   "nbconvert_exporter": "python",
   "pygments_lexer": "ipython3",
   "version": "3.7.3"
  },
  "pycharm": {
   "stem_cell": {
    "cell_type": "raw",
    "source": [],
    "metadata": {
     "collapsed": false
    }
   }
  }
 },
 "nbformat": 4,
 "nbformat_minor": 1
}