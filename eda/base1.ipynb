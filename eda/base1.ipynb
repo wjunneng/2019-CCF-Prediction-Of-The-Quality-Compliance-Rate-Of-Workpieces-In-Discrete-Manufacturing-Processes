{
 "cells": [
  {
   "cell_type": "code",
   "execution_count": 9,
   "metadata": {
    "collapsed": true,
    "pycharm": {
     "is_executing": false
    }
   },
   "outputs": [
    {
     "name": "stdout",
     "text": [
      "[100]\ttrain's multi_error: 0.413333\n",
      "[200]\ttrain's multi_error: 0.368833\n",
      "[300]\ttrain's multi_error: 0.338167\n",
      "[400]\ttrain's multi_error: 0.312\n[500]\ttrain's multi_error: 0.287\n",
      "[600]\ttrain's multi_error: 0.2585\n[700]\ttrain's multi_error: 0.238333\n",
      "[800]\ttrain's multi_error: 0.217167\n[900]\ttrain's multi_error: 0.197667\n",
      "[1000]\ttrain's multi_error: 0.182167\n[1100]\ttrain's multi_error: 0.166167\n",
      "[1200]\ttrain's multi_error: 0.151\n[1300]\ttrain's multi_error: 0.136\n"
     ],
     "output_type": "stream"
    }
   ],
   "source": [
    "from sklearn.model_selection import train_test_split\n",
    "import lightgbm as lgb\n",
    "import pandas as pd\n",
    "import numpy as np\n",
    "from sklearn.metrics import accuracy_score\n",
    "import math\n",
    "import copy as cp\n",
    "\n",
    "import pandas as pd\n",
    "\n",
    "project_path = '/home/wjunneng/Ubuntu/2019-CCF-Prediction-Of-The-Quality-Compliance-Rate-Of-Workpieces-In-Discrete-Manufacturing-Processes'\n",
    "\n",
    "df2_path = project_path + '/data/original/first_round_testing_data.csv'\n",
    "df1_path = project_path + '/data/original/first_round_training_data.csv'\n",
    "\n",
    "df2 = pd.read_csv(df2_path)\n",
    "df1 = pd.read_csv(df1_path)\n",
    "\n",
    "train_x=np.zeros([6000,10],dtype=np.float32)\n",
    "train_y=np.zeros([6000],dtype=np.int32)\n",
    "\n",
    "test_id=np.zeros([6000],dtype=np.int32)\n",
    "test_x=np.zeros([6000,10],dtype=np.float32)\n",
    "cls2int={\"Excellent\":0,\"Good\":1,\"Pass\":2,\"Fail\":3}\n",
    "for i in range(1,11):\n",
    "    par=\"Parameter\"+str(i)\n",
    "    tmp=df1[par]\n",
    "    for j in range(6000):\n",
    "        train_x[j,i-1]=tmp[j]\n",
    "        cls=cls2int[df1[\"Quality_label\"][j]]\n",
    "        train_y[j]=cls\n",
    "for i in range(1,11):\n",
    "    par=\"Parameter\"+str(i)\n",
    "    tmp=df2[par]\n",
    "    for j in range(6000):\n",
    "        test_x[j,i-1]=tmp[j]\n",
    "        ID=int(df2[\"Group\"][j])\n",
    "        test_id[j]=ID\n",
    "params = {\n",
    "'boosting_type': 'gbdt',\n",
    "'objective': 'multiclassova',\n",
    "'num_class': 4,  \n",
    "'metric': 'multi_error', \n",
    "'num_leaves': 32,\n",
    "'learning_rate': 0.01,\n",
    "'feature_fraction': 0.9,\n",
    "'bagging_fraction': 0.9,\n",
    "'bagging_seed':0,\n",
    "'bagging_freq': 1,\n",
    "'verbose': -1,\n",
    "'reg_alpha':1,\n",
    "'reg_lambda':2,\n",
    "'lambda_l1': 0,\n",
    "'lambda_l2': 1,\n",
    "'num_threads': 8,\n",
    "}\n",
    "lgb_train = lgb.Dataset(train_x, train_y)\n",
    "gbm = lgb.train(params,\n",
    "                lgb_train,\n",
    "                num_boost_round=1300,\n",
    "                valid_sets=[lgb_train],\n",
    "                valid_names=['train'],\n",
    "                verbose_eval=100,\n",
    "                )"
   ]
  },
  {
   "cell_type": "code",
   "execution_count": null,
   "outputs": [],
   "source": [
    "\n"
   ],
   "metadata": {
    "collapsed": false,
    "pycharm": {
     "name": "#%%\n"
    }
   }
  }
 ],
 "metadata": {
  "language_info": {
   "codemirror_mode": {
    "name": "ipython",
    "version": 2
   },
   "file_extension": ".py",
   "mimetype": "text/x-python",
   "name": "python",
   "nbconvert_exporter": "python",
   "pygments_lexer": "ipython2",
   "version": "2.7.6"
  },
  "kernelspec": {
   "name": "pycharm-e50da876",
   "language": "python",
   "display_name": "PyCharm (ForecastScore)"
  },
  "pycharm": {
   "stem_cell": {
    "cell_type": "raw",
    "source": [],
    "metadata": {
     "collapsed": false
    }
   }
  }
 },
 "nbformat": 4,
 "nbformat_minor": 0
}