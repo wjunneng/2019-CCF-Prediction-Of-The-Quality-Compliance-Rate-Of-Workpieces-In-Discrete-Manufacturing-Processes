{
 "cells": [
  {
   "cell_type": "code",
   "execution_count": 1,
   "metadata": {
    "pycharm": {
     "is_executing": false
    }
   },
   "outputs": [],
   "source": [
    "# !pip install catboost==0.15.2\n",
    "# !pip install tqdm\n",
    "# !pip install xlrd\n",
    "import numpy as np\n",
    "import pandas as pd\n",
    "import catboost as cbt\n",
    "from sklearn.metrics import accuracy_score, roc_auc_score,log_loss\n",
    "import gc\n",
    "import math\n",
    "import time\n",
    "from tqdm import tqdm\n",
    "import datetime\n",
    "from sklearn.model_selection import KFold,StratifiedKFold\n",
    "from sklearn.preprocessing import LabelEncoder\n",
    "import matplotlib.pyplot as plt\n",
    "from datetime import datetime,timedelta\n",
    "import warnings\n",
    "import os\n",
    "warnings.filterwarnings('ignore')\n",
    "pd.options.display.max_columns = None\n",
    "pd.options.display.max_rows = None"
   ]
  },
  {
   "cell_type": "code",
   "execution_count": 2,
   "metadata": {
    "pycharm": {
     "is_executing": false
    }
   },
   "outputs": [],
   "source": [
    "path = '/home/wjunneng/Ubuntu/2019-CCF-Prediction-Of-The-Quality-Compliance-Rate-Of-Workpieces-In-Discrete-Manufacturing-Processes'\n",
    "\n",
    "train = pd.read_csv(path + '/data/original/first_round_training_data.csv')\n",
    "test = pd.read_csv(path + '/data/original/first_round_testing_data.csv')\n",
    "submit = pd.read_csv(path + '/data/original/submit_example.csv')\n",
    "data = train.append(test).reset_index(drop=True)\n",
    "dit = {'Excellent':0,'Good':1,'Pass':2,'Fail':3}\n",
    "data['label'] = data['Quality_label'].map(dit)\n",
    "train['label'] = train['Quality_label'].map(dit)"
   ]
  },
  {
   "cell_type": "code",
   "execution_count": 3,
   "metadata": {
    "scrolled": false,
    "pycharm": {
     "is_executing": false
    }
   },
   "outputs": [
    {
     "name": "stdout",
     "text": [
      "(6000, 6) (6000, 6)\n1\n0\n",
      "{'task_type': 'GPU', 'loss_function': 'MultiClass', 'learning_rate': 0.01, 'iterations': 800, 'od_wait': 200, 'verbose': 300, 'logging_level': 'Verbose'}\n",
      "0:\tlearn: 1.3812292\ttest: 1.3812292\tbest: 1.3812292 (0)\ttotal: 6.67ms\tremaining: 5.33s\n",
      "300:\tlearn: 1.0899139\ttest: 1.0899138\tbest: 1.0899138 (300)\ttotal: 924ms\tremaining: 1.53s\n",
      "600:\tlearn: 1.0558207\ttest: 1.0558208\tbest: 1.0558208 (600)\ttotal: 1.74s\tremaining: 577ms\n",
      "799:\tlearn: 1.0397202\ttest: 1.0397202\tbest: 1.0397202 (799)\ttotal: 2.3s\tremaining: 0us\nbestTest = 1.039720224\nbestIteration = 799\nShrink model to first 800 iterations.\n1\n",
      "{'task_type': 'GPU', 'loss_function': 'MultiClass', 'learning_rate': 0.01, 'iterations': 800, 'od_wait': 200, 'verbose': 300, 'logging_level': 'Verbose'}\n0:\tlearn: 1.3811855\ttest: 1.3811856\tbest: 1.3811856 (0)\ttotal: 3.64ms\tremaining: 2.91s\n",
      "300:\tlearn: 1.0840149\ttest: 1.0840148\tbest: 1.0840148 (300)\ttotal: 852ms\tremaining: 1.41s\n",
      "600:\tlearn: 1.0507393\ttest: 1.0507393\tbest: 1.0507393 (600)\ttotal: 1.7s\tremaining: 563ms\n",
      "799:\tlearn: 1.0352522\ttest: 1.0352523\tbest: 1.0352523 (799)\ttotal: 2.29s\tremaining: 0us\nbestTest = 1.035252319\nbestIteration = 799\nShrink model to first 800 iterations.\n",
      "2\n{'task_type': 'GPU', 'loss_function': 'MultiClass', 'learning_rate': 0.01, 'iterations': 800, 'od_wait': 200, 'verbose': 300, 'logging_level': 'Verbose'}\n0:\tlearn: 1.3812685\ttest: 1.3812686\tbest: 1.3812686 (0)\ttotal: 3.35ms\tremaining: 2.67s\n",
      "300:\tlearn: 1.0873001\ttest: 1.0873000\tbest: 1.0873000 (300)\ttotal: 852ms\tremaining: 1.41s\n",
      "600:\tlearn: 1.0533281\ttest: 1.0533280\tbest: 1.0533280 (600)\ttotal: 1.67s\tremaining: 551ms\n",
      "799:\tlearn: 1.0370209\ttest: 1.0370210\tbest: 1.0370210 (799)\ttotal: 2.21s\tremaining: 0us\nbestTest = 1.037020994\nbestIteration = 799\nShrink model to first 800 iterations.\n3\n{'task_type': 'GPU', 'loss_function': 'MultiClass', 'learning_rate': 0.01, 'iterations': 800, 'od_wait': 200, 'verbose': 300, 'logging_level': 'Verbose'}\n0:\tlearn: 1.3811152\ttest: 1.3811153\tbest: 1.3811153 (0)\ttotal: 4.56ms\tremaining: 3.64s\n",
      "300:\tlearn: 1.0865079\ttest: 1.0865080\tbest: 1.0865080 (300)\ttotal: 864ms\tremaining: 1.43s\n",
      "600:\tlearn: 1.0534245\ttest: 1.0534246\tbest: 1.0534246 (600)\ttotal: 1.7s\tremaining: 563ms\n",
      "799:\tlearn: 1.0377836\ttest: 1.0377837\tbest: 1.0377837 (799)\ttotal: 2.26s\tremaining: 0us\nbestTest = 1.037783673\nbestIteration = 799\nShrink model to first 800 iterations.\n4\n{'task_type': 'GPU', 'loss_function': 'MultiClass', 'learning_rate': 0.01, 'iterations': 800, 'od_wait': 200, 'verbose': 300, 'logging_level': 'Verbose'}\n0:\tlearn: 1.3810507\ttest: 1.3810507\tbest: 1.3810507 (0)\ttotal: 3.15ms\tremaining: 2.51s\n",
      "300:\tlearn: 1.0784897\ttest: 1.0784899\tbest: 1.0784899 (300)\ttotal: 868ms\tremaining: 1.44s\n",
      "600:\tlearn: 1.0441994\ttest: 1.0441994\tbest: 1.0441994 (600)\ttotal: 2s\tremaining: 664ms\n",
      "799:\tlearn: 1.0298642\ttest: 1.0298641\tbest: 1.0298641 (799)\ttotal: 2.6s\tremaining: 0us\nbestTest = 1.029864062\nbestIteration = 799\nShrink model to first 800 iterations.\nlogloss 1.0918288666163707\nac 0.5283333333333333\nmae 0.06259058706430119\nlogloss 1.0918288666163707\nac 0.5283333333333333\nmae 0.06259058706430119\n"
     ],
     "output_type": "stream"
    }
   ],
   "source": [
    "feature_name = ['Parameter{0}'.format(i) for i in range(5, 11)]\n",
    "tr_index = ~data['label'].isnull()\n",
    "X_train = data[tr_index][feature_name].reset_index(drop=True)\n",
    "y = data[tr_index]['label'].reset_index(drop=True).astype(int)\n",
    "X_test = data[~tr_index][feature_name].reset_index(drop=True)\n",
    "\n",
    "print(X_train.shape,X_test.shape)\n",
    "oof = np.zeros((X_train.shape[0],4))\n",
    "prediction = np.zeros((X_test.shape[0],4))\n",
    "seeds = [19970412, 2019 * 2 + 1024, 4096, 2048, 1024]\n",
    "num_model_seed = 1\n",
    "for model_seed in range(num_model_seed):\n",
    "    print(model_seed + 1)\n",
    "    oof_cat = np.zeros((X_train.shape[0],4))\n",
    "    prediction_cat=np.zeros((X_test.shape[0],4))\n",
    "    skf = StratifiedKFold(n_splits=5, random_state=seeds[model_seed], shuffle=True)\n",
    "    for index, (train_index, test_index) in enumerate(skf.split(X_train, y)):\n",
    "        print(index)\n",
    "        train_x, test_x, train_y, test_y = X_train.iloc[train_index], X_train.iloc[test_index], y.iloc[train_index], y.iloc[test_index]\n",
    "        gc.collect()\n",
    "        cbt_model = cbt.CatBoostClassifier(iterations=800,learning_rate=0.01,verbose=300,\n",
    "                                        early_stopping_rounds=200,task_type='GPU',\n",
    "                                        loss_function='MultiClass')\n",
    "        cbt_model.fit(train_x, train_y ,eval_set=(train_x, train_y))\n",
    "        oof_cat[test_index] += cbt_model.predict_proba(test_x)\n",
    "        prediction_cat += cbt_model.predict_proba(X_test)/5\n",
    "        gc.collect()\n",
    "    oof += oof_cat / num_model_seed\n",
    "    prediction += prediction_cat / num_model_seed\n",
    "    print('logloss',log_loss(pd.get_dummies(y).values, oof_cat))\n",
    "    print('ac',accuracy_score(y, np.argmax(oof_cat,axis=1)))\n",
    "    print('mae',1/(1 + np.sum(np.absolute(np.eye(4)[y] - oof_cat))/480))\n",
    "print('logloss',log_loss(pd.get_dummies(y).values, oof))\n",
    "print('ac',accuracy_score(y, np.argmax(oof,axis=1)))\n",
    "print('mae',1/(1 + np.sum(np.absolute(np.eye(4)[y] - oof))/480))"
   ]
  },
  {
   "cell_type": "code",
   "execution_count": 4,
   "metadata": {
    "pycharm": {
     "is_executing": false
    }
   },
   "outputs": [],
   "source": [
    "sub = test[['Group']]\n",
    "prob_cols = [i for i in submit.columns if i not in ['Group']]\n",
    "for i, f in enumerate(prob_cols):\n",
    "    sub[f] = prediction[:, i]\n",
    "for i in prob_cols:\n",
    "    sub[i] = sub.groupby('Group')[i].transform('mean')\n",
    "sub = sub.drop_duplicates()\n",
    "sub.to_csv(\"submission.csv\",index=False)"
   ]
  },
  {
   "cell_type": "code",
   "execution_count": null,
   "metadata": {
    "pycharm": {
     "name": "#%%"
    }
   },
   "outputs": [],
   "source": []
  }
 ],
 "metadata": {
  "kernelspec": {
   "display_name": "Python 3",
   "language": "python",
   "name": "python3"
  },
  "language_info": {
   "codemirror_mode": {
    "name": "ipython",
    "version": 3
   },
   "file_extension": ".py",
   "mimetype": "text/x-python",
   "name": "python",
   "nbconvert_exporter": "python",
   "pygments_lexer": "ipython3",
   "version": "3.7.3"
  },
  "pycharm": {
   "stem_cell": {
    "cell_type": "raw",
    "source": [],
    "metadata": {
     "collapsed": false
    }
   }
  }
 },
 "nbformat": 4,
 "nbformat_minor": 1
}